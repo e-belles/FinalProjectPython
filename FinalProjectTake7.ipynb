{
 "cells": [
  {
   "cell_type": "markdown",
   "metadata": {},
   "source": [
    "# The Effect of Unemployment on Crime: A Study of National Data from the U.S. for 1983-2013\n",
    "\n",
    "### Final Project for Applied Economic Analysis 1, Fall 2016 \n",
    "\n",
    "Authors: Erin Belles ANR132452 u1274767, Iris Warnaar ANR115795 u1277019  \n",
    "30 January, 2017"
   ]
  },
  {
   "cell_type": "markdown",
   "metadata": {},
   "source": [
    "### Question: How does unemployment affect crime rates in the United States? \n",
    "\n",
    "More specifically, this project will examine what casual effects national unemployment rates may have on national crime rates for the United States for data from 1983-2013. The crime rates will be distinguished between violent and property crimes. Violent crimes will consist of murder and nonnegligent manslaughter, rape, robbery, aggravated assault whereas property (nonviolent) crimes will consist of burglary, larceny-theft, and motor vehicle theft. "
   ]
  },
  {
   "cell_type": "markdown",
   "metadata": {},
   "source": [
    "### Motivation:\n",
    "\n",
    "There has been much speculation regarding higher unemployment leading to higher crime rates. The rationale behind this assumption is that as legitimate income sources from the labor market decrease, individuals will be tempted to turn to alternative income sources. However, alternative structural models have highlighted that for a crime to occur there also needs to be \"a suitable target\" and \"absence of an effective guardian\" in addition to the presence of a motivated offender ([Cohen and Felson](http://www.jstor.org/stable/2094589)). Unemployed people may be more likely to be at home, in a better position to guard their possessions. This would somewhat complicate the study of the relationship between unemployment and crime due to the presence of both criminal motivational theories and criminal opportunity theories.  \n",
    "\n",
    "There have been somewhat conflicting findings in past economic studies on the effects of unemployment on crime.  \n",
    "For U.S. data from 1947-1972, [Cohen, Felson, and Land](http://www.jstor.org/stable/2778853) found that for burglary, unemployment had a positive effect, while for robbery and auto theft it had a negative effect. Conclusions surrounding the effect of unemployment on violent crimes have also been conflicting. [Raphael and Winter-Ebmer](http://www.jstor.org/stable/10.1086/320275) found that higher levels of unemployment may lead to a higher likelihood to commit a rape for males. However, in the same study they found that murder rates may be negatively correlated with unemployment. This result would imply that higher state unemployement rates would lead to lower state murder rates. The authors contend that it is possible they have omitted a variable correlated to higher murder rates and unemployment.\n",
    "\n",
    "[\"Unemployment and Crime Rates in the Post-World War II United States: A Theoretical and\n",
    "Empirical Analysis\"](http://www.jstor.org/stable/2095542) by Cantor and Land, the paper which initially inspired this study, was published in 1985 and examines the period from 1946-1982. It found a small but singnificant partial negative effect of unemployment on homicide, robbery, burglary, larceny-theft and motor vehicle theft, and a significant partial postive effect on robbery, burglary and larceny. That is to say that of the five categories of crime with significant results, all (partially) decreased due to higher unemployment, but property crimes partially increased due to increases in unemployment rates. (For example, the change in larceny rate is estimated as: $ {\\Delta} larceny_t = 145.33 - 31.180 U_t + 38.464 {\\Delta} U_t $. If the unemployment increased from 6 to 9 percent then $ {\\Delta} larceny_t = -19.898 $). This result would equate to 19.898 less larcenies reported per 100,000 people within a year. In summary, this paper would seem to indicate that unemployment reduces violent crime and, depending on net effects, may also reduce property crime. Since a number of years have elapsed since the paper was originally published, it is interesting to repeat the study using more modern data to see if the unemployment-crime relationship found previously still holds."
   ]
  },
  {
   "cell_type": "markdown",
   "metadata": {},
   "source": [
    "### Method:"
   ]
  },
  {
   "cell_type": "markdown",
   "metadata": {
    "collapsed": true
   },
   "source": [
    "We will use time series data from the [U.S. Department of Justice](https://ucr.fbi.gov/crime-in-the-u.s/2013/crime-in-the-u.s.-2013/tables/1tabledatadecoverviewpdf/table_1_crime_in_the_united_states_by_volume_and_rate_per_100000_inhabitants_1994-2013.xls) and [Bureau of Labor Statistics](https://www.bls.gov/data/)  on the national crime and unemployment rates for the period of 1983-2013. We have chosen this time window because the yearly crime data published at the [U.S. Department of Justice](https://ucr.fbi.gov/crime-in-the-u.s/) indicated that from 2013 forward a new definition of rape was used, therefore we excluded 2014 and 2015 from our analysis. At this time the reports for 2016 are also still pending which would prevent us from including it in the analysis in any case. Additionally, the study by [Cantor and Land](http://www.jstor.org/stable/2095542) included data up until 1982 which makes 1983 seem like a natural starting point for our analysis. \n",
    "\n",
    "As stated previously, the unemployment rate may have significantly different effects on violent and non-violent crime rates. Recognising this, [Cantor and Land](http://www.jstor.org/stable/2095542) perform individual analyses for the 7 different crime rates (as specified above in the Question section). However, We limit our study to the effect of unemployment on violent and property crime rates. This is necessary due to the scope of our assignment, since including all 7 individual crime rates would necessitate etimation of 28 regressions and 7 specification tests. Choosing violent and property crime rates for the focus of this assignment makes intuitive sense as crime rates for murder, rape, robbery, and aggravated assault constitute the violent crime rate, while the property crime rate consists of burglary, larceny, and motor vehicle theft rates. Interested parties who wish to continue our research may use the method specified in this notebook to isolate which individual crime rate(s) are most affected by the unemployment rate. \n",
    "\n",
    "As in the paper by [Cantor and Land](http://www.jstor.org/stable/2095542), we claim that it may be difficult to include all of the necessary covariates which may be correlated with the cyclical movements of unemployment and levels of crime. As mentioned in the motivation, crime involves the presence of a motivated potential offender, the presence of a suitable target, and a lack of capable guardianship. This would seem to imply that including only covariates such as education levels or gdp may explain criminal motivation theories while not addressing criminal opportunity theories. Therefore we will choose to adopt [Cantor and Land's](http://www.jstor.org/stable/2095542) use of changes in the level of crime as the dependent variable (${\\Delta}C$), with the unemployment rate and the change in unemployment from the previous period as the explanatory variables. The following formula is estimated:  \n",
    "\n",
    "$$ {\\Delta} C_t = {\\alpha} + {\\beta_1} U_t + {\\beta_2} {\\Delta} U_t + {\\epsilon} $$\n",
    "\n",
    "Using this first difference method of estimation effectively removes any linear time trend in the crime rate, meaning that any residual variance should be directly driven by changes in the unemployment rate. However, like [Cantor and Land](http://www.jstor.org/stable/2095542), we acknowledge that we cannot ex ante assume any present trend to be linear in form. Thus, in order to mitigate the likelihood of model misspecification, we also include a regression specification that takes the second derivative. Taking the second difference of the crime rate effectively removes quadratic time trends. It is calculated using the following formula:\n",
    "\n",
    "\n",
    "$$ {\\Delta}^2 C_t = {\\Delta}({\\Delta}C_t) = C_t - 2C_{t-1} + C_{t-2} $$\n",
    "\n",
    "\n",
    "Moreover, we perform an additional robustness check by repeating the first two regressions using the natural logs of the relevant crime and unemployment rates. This controls for potential trends in variance, and is a common tecnhique used in time-series analysis ([Cantor and Land](http://www.jstor.org/stable/2095542)). Using these four model specifications, we can perform simple OLS regressions using time series data for the 1983-2013 period. The estimation equations are as follows:\n",
    "\n",
    "\n",
    "$$(1)  {\\Delta} C_t = {\\alpha} + {\\beta_1} U_t + {\\beta_2} {\\Delta} U_t + {\\epsilon} $$  \n",
    "$$(2)  {\\Delta}^2 C_t = {\\alpha} + {\\beta_1} U_t + {\\beta_2} {\\Delta} U_t + {\\epsilon} $$  \n",
    "$$(3)  {\\Delta} lnC_t = {\\alpha} + {\\beta_1} lnU_t + {\\beta_2} {\\Delta} lnU_t + {\\epsilon} $$   \n",
    "$$(4)  {\\Delta}^2 lnC_t = {\\alpha} + {\\beta_1} lnU_t + {\\beta_2} {\\Delta} lnU_t + {\\epsilon} $$  \n",
    "\n",
    "\n",
    "To choose the best model specification, we will examine the [Durbin-Watson statistic](http://www.math.nsysu.edu.tw/~lomn/homepage/class/92/DurbinWatsonTest.pdf) for each regression, which  tests for autocorrelation of the residuals. Autocorrelation can cause a spurious regression due to non-stationary data, and should therefore be avoided. Our null and alternative hypotheses are as follows:\n",
    "\n",
    "$ H_0: p = 0, $ the error term is not serially correlated.  \n",
    "$ H_1: p > 0, $ the error term is serially correlated. \n",
    "\n",
    "Given that we hava observations for 21 years, 2 restirctions and wish to test for autocorrelation at the 5% significance level, we do not reject the null hypothesis if $d > d_U = 1.54 $ but reject it if $d < d_L = 1.10 $. If $d_L < d < d_H $, then the Durbin-Watson test is inconclusive.  \n",
    "\n",
    "The regression code used to generate our regressions automatically includes the Durbin-Watson test statistic. However, for those interested, it can be calculated as follows:\n",
    "\n",
    "\n",
    "### $$ d =\\frac{\\sum_{t=2}^{T}(e_t - e_{t-1})^2}{\\sum_{t=2}^{T}e_t^2} $$\n",
    "\n",
    "\n",
    "Following [Cantor and Land's](http://www.jstor.org/stable/2095542)'s method, the model which shows the least sign of serially correlated errors and which has undergone the least transformations will be our preferred model. "
   ]
  },
  {
   "cell_type": "markdown",
   "metadata": {},
   "source": [
    "### Answer:"
   ]
  },
  {
   "cell_type": "markdown",
   "metadata": {
    "collapsed": true
   },
   "source": [
    "Based on our analysis, we determined that equation 2 best fits the data. However, we found no evidence that the unemployment rate had an effect on either the property or violent crime rates for the U.S. data from 1983-2013. "
   ]
  },
  {
   "cell_type": "markdown",
   "metadata": {},
   "source": [
    "### Assumptions: "
   ]
  },
  {
   "cell_type": "markdown",
   "metadata": {
    "collapsed": true
   },
   "source": [
    "* Using aggregate crime rates for violent and property crimes as a whole rather than individual crime statistics (i.e. rape or burglary) will still produce meaningful results.   \n",
    "* The trend in crime rates over time is not higher order than quadratic. (Although this might not be true, it greatly simplifies the calculations.)  \n",
    "* The change in the crime rate is only related to the unemployment rate in this period and in the last period. (Once again, it may be that more lagged values of unemployment should be introduced into the equation.)\n",
    "* There is not an omitted variable correlated with change in crime rates and (change in) unemployment rates.\n",
    "* Robbery is classified as a violent crime. Although there is a property component, roberry involves taking possession of an object by force. Furthermore, the national statistics include it under the violent crime category."
   ]
  },
  {
   "cell_type": "markdown",
   "metadata": {},
   "source": [
    "## Execution"
   ]
  },
  {
   "cell_type": "markdown",
   "metadata": {},
   "source": [
    "### Importing Libraries and Packages: "
   ]
  },
  {
   "cell_type": "code",
   "execution_count": 1,
   "metadata": {
    "collapsed": false
   },
   "outputs": [],
   "source": [
    "import math\n",
    "import numpy as np\n",
    "import pandas as pd\n",
    "import scipy as sp\n",
    "import statsmodels.api as sm\n",
    "import plotly.tools as tls\n",
    "import plotly.plotly as py\n",
    "import scipy.stats\n",
    "\n",
    "from pandas import DataFrame\n",
    "from sklearn.linear_model import LinearRegression\n",
    "from plotly.tools import FigureFactory as F\n",
    "\n",
    "\n",
    "from scipy import arange, optimize\n",
    "from numpy import array\n",
    "import matplotlib.pyplot as plt\n",
    "%matplotlib inline\n"
   ]
  },
  {
   "cell_type": "markdown",
   "metadata": {},
   "source": [
    "### Data:\n",
    "As mentioned, we use time series data from the [U.S. Department of Justice]((https://ucr.fbi.gov/crime-in-the-u.s/2013/crime-in-the-u.s.-2013/tables/1tabledatadecoverviewpdf/table_1_crime_in_the_united_states_by_volume_and_rate_per_100000_inhabitants_1994-2013.xls) and [Bureau of Labor Statistics](https://www.bls.gov/data/) on the national crime and unemployment rates for the period of 1983-2013. We include the complete dataset with crime rates per 100,000 for violent crime, murder, rape, robbery, aggravated assault, property crime, burglary, larceny-theft and auto theft, as well as the unemployment rate, so that the reader may be able to extend our method to crime rates not investigated in this notebook.\n",
    "\n",
    "As mentioned in the method, we must apply a series of transformations to relevant variables in order to be able to perform the regressions as specified. These transformations include taking first and second differences, as well as the log of each crime rate. We therefore also provide the dataframe used in our regression analyses.\n"
   ]
  },
  {
   "cell_type": "code",
   "execution_count": 3,
   "metadata": {
    "collapsed": false
   },
   "outputs": [
    {
     "data": {
      "text/html": [
       "<iframe id=\"igraph\" scrolling=\"no\" style=\"border:none;\" seamless=\"seamless\" src=\"https://plot.ly/~eBelles/18.embed\" height=\"1010px\" width=\"100%\"></iframe>"
      ],
      "text/plain": [
       "<plotly.tools.PlotlyDisplay object>"
      ]
     },
     "execution_count": 3,
     "metadata": {},
     "output_type": "execute_result"
    }
   ],
   "source": [
    "#The following code allows you to view the entire dataset of crime and unemployment rates\n",
    "\n",
    "import plotly.plotly as py\n",
    "py.sign_in('eBelles', 'ZVnlWpofP0UBSs07PvyB')\n",
    "\n",
    "from plotly.tools import FigureFactory as FF \n",
    " \n",
    "data_matrix = [['Year', 'Violent', 'Murder', 'Rape', 'Robbery', 'Agg. assault', 'Property', 'Burglary', 'Larceny-theft', 'Auto theft', 'Unemployment'],\n",
    "[1983, 538.1, 8.3, 33.8, 216.7, 279.4, 4641.1, 1338.7, 2871.3, 431.1, 9.60],\n",
    "[1984, 539.9, 7.9, 35.7, 205.7, 290.6, 4498.5, 1265.5, 2795.2, 437.7, 7.51],\n",
    "[1985, 558.1, 8.0, 36.8, 209.3, 304.0, 4666.4, 1291.7, 2911.2, 463.5, 7.19],\n",
    "[1986, 620.1, 8.6, 38.1, 226.0, 347.4, 4881.8, 1349.8, 3022.1, 509.8, 7.00],\n",
    "[1987, 612.5, 8.3, 37.6, 213.7, 352.9, 4963.0, 1335.7, 3095.4, 531.9, 6.18],\n",
    "[1988, 640.6, 8.5, 37.8, 222.1, 372.2, 5054.0, 1316.2, 3151.7, 586.1, 5.49],\n",
    "[1989, 666.9, 8.7, 38.3, 234.3, 385.6, 5107.1, 1283.6, 3189.6, 634.0, 5.26],\n",
    "[1990, 729.6, 9.4, 41.1, 256.3, 422.9, 5073.1, 1232.2, 3185.1, 655.8, 5.62],\n",
    "[1991, 758.2, 9.8, 42.3, 272.7, 433.4, 5140.2, 1252.1, 3229.1, 659.0, 6.85],\n",
    "[1992, 757.7, 9.3, 42.8, 263.7, 441.9, 4903.7, 1168.4, 3103.6, 631.6, 7.49],\n",
    "[1993, 747.1, 9.5, 41.1, 256.0, 440.5, 4740.0, 1099.7, 3033.9, 606.3, 6.91],\n",
    "[1994, 713.6, 9.0, 39.3, 237.8, 427.6, 4660.2, 1042.1, 3026.9, 591.3, 6.10],\n",
    "[1995, 684.5, 8.2, 37.1, 220.9, 418.3, 4590.5, 987.0, 3043.2, 560.3, 5.59],\n",
    "[1996, 636.6, 7.4, 36.3, 201.9, 391.0, 4451.0, 945.0, 2980.3, 525.7, 5.41],\n",
    "[1997, 611.0, 6.8, 35.9, 186.2, 382.1, 4316.3, 918.8, 2891.8, 505.7, 4.94],\n",
    "[1998, 567.6, 6.3, 34.5, 165.5, 361.4, 4052.5, 863.2, 2729.5, 459.9, 4.50],\n",
    "[1999, 523.0, 5.7, 32.8, 150.1, 334.3, 3743.6, 770.4, 2550.7, 422.5, 4.22],\n",
    "[2000, 506.5, 5.5, 32.0, 145.0, 324.0, 3618.3, 728.8, 2477.3, 412.2, 3.97],\n",
    "[2001, 504.5, 5.6, 31.8, 148.5, 318.6, 3658.1, 741.8, 2485.7, 430.5, 4.74],\n",
    "[2002, 494.4, 5.6, 33.1, 146.1, 309.5, 3630.6, 747.0, 2450.7, 432.9, 5.78],\n",
    "[2003, 475.8, 5.7, 32.3, 142.5, 295.4, 3591.2, 741.0, 2416.5, 433.7, 5.99],\n",
    "[2004, 463.2, 5.5, 32.4, 136.7, 288.6, 3514.1, 730.3, 2362.3, 421.5, 5.54],\n",
    "[2005, 469.0, 5.6, 31.8, 140.8, 290.8, 3431.5, 726.9, 2287.8, 416.8, 5.08],\n",
    "[2006, 479.3, 5.8, 31.6, 150.0, 292.0, 3346.6, 733.1, 2213.2, 400.2, 4.61],\n",
    "[2007, 471.8, 5.7, 30.6, 148.3, 287.2, 3276.4, 726.1, 2185.4, 364.9, 4.62],\n",
    "[2008, 458.6, 5.4, 29.8, 145.9, 277.5, 3214.6, 733.0, 2166.1, 315.4, 5.80],\n",
    "[2009, 431.9, 5.0, 29.1, 133.1, 264.7, 3041.3, 717.7, 2064.5, 259.2, 9.28],\n",
    "[2010, 404.5, 4.8, 27.7, 119.3, 252.8, 2945.9, 701.0, 2005.8, 239.1, 9.61],\n",
    "[2011, 387.1, 4.7, 27.0, 113.9, 241.5, 2905.4, 701.3, 1974.1, 230.0, 8.93],\n",
    "[2012, 387.8, 4.7, 27.1, 113.1, 242.8, 2868.0, 672.2, 1965.4, 230.4, 8.08],\n",
    "[2013, 367.9, 4.5, 25.2, 109.1, 229.1, 2730.7, 610.0, 1899.4, 221.3, 7.37]]\n",
    "\n",
    "table = FF.create_table(data_matrix)\n",
    "py.iplot(table, filename='simple_table')"
   ]
  },
  {
   "cell_type": "code",
   "execution_count": 3,
   "metadata": {
    "collapsed": false
   },
   "outputs": [],
   "source": [
    "#This code establishes the dataframe used in our regression analyses.\n",
    "\n",
    "df = pd.DataFrame ({\"Year\":[1983, 1984, 1985, 1986, 1987, 1988, 1989, 1990, 1991, 1992, 1993, 1994, 1995, 1996, 1997, 1998, 1999, 2000, 2001, 2002, 2003, 2004, 2005, 2006, 2007, 2008, 2009, 2010, 2011, 2012, 2013],\n",
    "                \"UnemploymentRate\":[9.600, 7.508, 7.192, 7.000, 6.175, 5.492, 5.258, 5.617, 6.850, 7.492, 6.908, 6.100, 5.592, 5.408, 4.942, 4.500, 4.217, 3.967, 4.742, 5.783, 5.992, 5.542, 5.083, 4.608, 4.617, 5.800, 9.283, 9.608, 8.933, 8.075, 7.367],\n",
    "                \"ChangeUnemployment\":[-0.108, -2.092, -0.317, -0.192, -0.825, -0.683, -0.233, 0.358, 1.233, 0.642, -0.583, -0.808, -0.508, -0.183, -0.467, -0.442, -0.283, -0.250, 0.775, 1.042, 0.208, -0.450, -0.458, -0.475, 0.008, 1.183, 3.483, 0.325, -0.675, -0.858, -0.708],\n",
    "                \"lnUnemployment\":[2.262, 2.016, 1.973, 1.946, 1.821, 1.703, 1.660, 1.726, 1.924, 2.014, 1.933, 1.808, 1.721, 1.688, 1.598, 1.504, 1.439, 1.378, 1.556, 1.755, 1.790, 1.712, 1.626, 1.528, 1.530, 1.758, 2.228, 2.263, 2.190, 2.089, 1.997],\n",
    "                \"ChangelnUnemployment\":[-0.011, -0.246, -0.043, -0.027, -0.125, -0.117, -0.043, 0.066, 0.199, 0.090, -0.081, -0.124, -0.087, -0.033, -0.090, -0.094, -0.065, -0.061, 0.178, 0.199, 0.035, -0.078, -0.086, -0.098, 0.002, 0.228, 0.470, 0.034, -0.073, -0.101, -0.092],\n",
    "                \"ChangeVcrime\":[-32.699, 1.805, 18.137, 62.080, -7.652, 28.092, 26.316, 62.714, 28.563, -0.511, -10.518, -33.548, -29.100, -47.900, -25.600, -43.400, -44.600, -16.500, -2.000, -10.100, -18.600, -12.600, 5.800, 10.300, -7.500, -13.200, -26.700, -27.400, -17.400, 0.700, -19.900],    \n",
    "                \"C2Vcrime\":[-10.046, 34.503, 16.333, 43.943, -69.732, 35.745, -1.776, 36.398, -34.151, -29.074, -10.008, -23.029, 4.448, -18.800, 22.300, -17.800, -1.200, 28.100, 14.500, -8.100, -8.500, 6.000, 18.400, 4.500, -17.800, -5.700, -13.500, -0.700, 10.000, 18.100, -20.600],    \n",
    "                \"ClnVcrime\":[-0.059, 0.003, 0.033, 0.105, -0.012, 0.045, 0.040, 0.090, 0.038, -0.001, -0.014, -0.046, -0.042, -0.073, -0.041, -0.074, -0.082, -0.032, -0.004, -0.020, -0.038, -0.027, 0.012, 0.022, -0.016, -0.028, -0.060, -0.066, -0.044, 0.002, -0.053],    \n",
    "                \"C2lnVcrime\":[-0.020, 0.062, 0.030, 0.072, -0.118, 0.057, -0.005, 0.050, -0.051, -0.039, -0.013, -0.032, 0.004, -0.031, 0.032, -0.033, -0.008, 0.050, 0.028, -0.016, -0.018, 0.012, 0.039, 0.009, -0.037, -0.013, -0.032, -0.006, 0.022, 0.046, -0.054],    \n",
    "                \"ChangePcrime\":[-388.579, -142.656, 167.995, 215.307, 81.208, 90.991, 53.190, -34.080, 67.114, -236.467, -163.756, -79.754, -69.700, -139.500, -134.700, -263.800, -308.900, -125.300, 39.800, -27.500, -39.400, -77.100, -82.600, -84.900, -70.200, -61.800, -173.300, -95.400, -40.500, -37.400, 137.300],\n",
    "                \"C2Pcrime\":[-161.752, 245.922, 310.651, 47.313, -134.100, 9.783, -37.801, -87.270, 101.195, -303.582, 72.711, 84.002, 10.054, -69.800, 4.800, -129.100, -45.100, 183.600, 165.100, -67.300, -11.900, -37.700, -5.500, -2.300, 14.700, 8.400, -111.500, 77.900, 54.900, 3.100, -99.900],\n",
    "                \"ClnPcrime\":[-0.080, -0.031, 0.037, 0.045, 0.016, 0.018, 0.010, -0.007, 0.013, -0.047, -0.034, -0.017, -0.015, -0.031, -0.031, -0.063, -0.079, -0.034, 0.011, -0.008, -0.011, -0.022, -0.024, -0.025, -0.021, -0.019, -0.055, -0.032, -0.014, -0.013, -0.049],\n",
    "                \"C2lnPcrime\":[-0.036, 0.049, 0.068, 0.008, -0.029, 0.002, -0.008, -0.017, 0.020, -0.060, 0.013, 0.017, 0.002, -0.016, 0.000, -0.032, -0.016, 0.045, 0.045, -0.018, -0.003, -0.011, -0.002, -0.001, 0.004, 0.002, -0.036, 0.024, 0.018, 0.001, -0.036]})   "
   ]
  },
  {
   "cell_type": "markdown",
   "metadata": {},
   "source": [
    "### Descriptive Statistics:"
   ]
  },
  {
   "cell_type": "markdown",
   "metadata": {},
   "source": [
    "<a href=\"http://www.financialsense.com/sites/default/files/imagecache/desktop/users/u71/images/2013/unemployment-rate-1983-2013.jpg\"><img src=\"http://www.financialsense.com/sites/default/files/imagecache/desktop/users/u71/images/2013/unemployment-rate-1983-2013.jpg\" style=\"center\"/></a>\n",
    "\n",
    "* "
   ]
  },
  {
   "cell_type": "code",
   "execution_count": 4,
   "metadata": {
    "collapsed": false
   },
   "outputs": [
    {
     "data": {
      "text/html": [
       "<iframe id=\"igraph\" scrolling=\"no\" style=\"border:none;\" seamless=\"seamless\" src=\"https://plot.ly/~eBelles/17.embed\" height=\"525\" width=\"100%\"></iframe>"
      ],
      "text/plain": [
       "<plotly.tools.PlotlyDisplay object>"
      ]
     },
     "execution_count": 4,
     "metadata": {},
     "output_type": "execute_result"
    }
   ],
   "source": [
    "tls.embed(\"https://plot.ly/~eBelles/17/\")"
   ]
  },
  {
   "cell_type": "markdown",
   "metadata": {
    "collapsed": true
   },
   "source": [
    "The above graph shows that violent and property crime rates exhibit very different levels and trends over time. Moreover, the mean, standard deviation and range for both rates over the given time period bare little resemblance to each other, as shown in the table below. This remains true even when taking the first difference and second differences, providing further evidence that each rate should be analysed seperately when trying to determine its relationship to unemployment.\n",
    "\n",
    "\n",
    "|   Rate per 100,000   |   ViolentCrime  |    PropertyCrime   |  UnemploymentRate  |\n",
    "|:--------------------:|:---------------:|:------------------:|:------------------:|\n",
    "|       Range          | 377.80 to 758.20 |  2905.40 to 5256.50 | 3.97 to 9.61 |      \n",
    "|       Mean           |      555.08     |       4040.51      |   6.30  |\n",
    "|  Standard Deviation  |      115.31     |       780.41       |  1.57  |\n",
    "|**First Differences** |**ChangeVCrime** |  **ChangePcrime**  |**ChangeUnemployment**|                    \n",
    "|       Range          | -47.90 to 62.71  |  -388.58 to 215.31  |  -2.09 to -3.683  |\n",
    "|       Mean           |      -6.55      |       -65.30       |  -0.07  |\n",
    "|  Standard Deviation  |      26.96      |       132.35       |  0.94  |\n",
    "|**Second Differences**|   **C2Vcrime**  |    **C2Pcrime**    |  **NA**  |\n",
    "|       Range          | -69.73 to -43.94 | -303.58 to - 310.65 |  -  |\n",
    "|       Mean           |       0.09      |        2.89        |  -  |\n",
    "|  Standard Deviation  |      23.89      |       120.43       |  -  |"
   ]
  },
  {
   "cell_type": "code",
   "execution_count": 5,
   "metadata": {
    "collapsed": false
   },
   "outputs": [
    {
     "name": "stdout",
     "output_type": "stream",
     "text": [
      "(555.0774193548388, -6.54583870967742, 0.08883870967741916, 4040.5064516129037, -65.3028064516129, 2.887935483870967, 6.298419354838708, -0.07551612903225807)\n",
      "(115.30546446407367, 26.96352111362597, 23.898010388364398, 780.4134520159228, 132.3484718934948, 120.42627925963012, 1.5658139133493143, 0.9358130455339182)\n"
     ]
    }
   ],
   "source": [
    "# Code for finding the mean\n",
    "\n",
    "def mean(values): \n",
    "    length = len(values)\n",
    "    total_sum = 0\n",
    "    for i in range(length):\n",
    "        total_sum += values [i]\n",
    "    average = total_sum*1.0/length\n",
    "    return average\n",
    "\n",
    "# Code for finding the standard deviation\n",
    "\n",
    "def stanDev(values):\n",
    "    length = len(values)\n",
    "    m = mean(values)\n",
    "    total_sum = 0\n",
    "    for i in range(length):\n",
    "        total_sum += (values[i]-m)**2\n",
    "    under_root = total_sum*1.0/length\n",
    "    return math.sqrt(under_root)\n",
    "\n",
    "ViolentCrime = [538.1, 539.9, 558.1, 620.1, 612.5, 640.6, 666.9, 729.6, 758.2, 757.7, 747.1, 713.6, 684.5, 636.6, 611.0, 567.6, 523.0, 506.5, 504.5, 494.4, 475.8, 463.2, 469.0, 479.3, 471.8, 458.6, 431.9, 404.5, 387.1, 387.8, 367.9] \n",
    "ChangeVcrime = [-32.699, 1.805, 18.137, 62.080, -7.652, 28.092, 26.316, 62.714, 28.563, -0.511, -10.518, -33.548, -29.100, -47.900, -25.600, -43.400, -44.600, -16.500, -2.000, -10.100, -18.600, -12.600, 5.800, 10.300, -7.500, -13.200, -26.700, -27.400, -17.400, 0.700, -19.900]\n",
    "C2Vcrime = [-10.046, 34.503, 16.333, 43.943, -69.732, 35.745, -1.776, 36.398, -34.151, -29.074, -10.008, -23.029, 4.448, -18.800, 22.300, -17.800, -1.200, 28.100, 14.500, -8.100, -8.500, 6.000, 18.400, 4.500, -17.800, -5.700, -13.500, -0.700, 10.000, 18.100, -20.600]\n",
    "PropertyCrime = [4641.1, 4498.5, 4666.4, 4881.8, 4963.0, 5054.0, 5107.1, 5073.1, 5140.2, 4903.7, 4740.0, 4660.2, 4590.5, 4451.0, 4316.3, 4052.5, 3743.6, 3618.3, 3658.1, 3630.6, 3591.2, 3514.1, 3431.5, 3346.6, 3276.4, 3214.6, 3041.3, 2945.9, 2905.4, 2868.0, 2730.7] \n",
    "ChangePcrime = [-388.579, -142.656, 167.995, 215.307, 81.208, 90.991, 53.190, -34.080, 67.114, -236.467, -163.756, -79.754, -69.700, -139.500, -134.700, -263.800, -308.900, -125.300, 39.800, -27.500, -39.400, -77.100, -82.600, -84.900, -70.200, -61.800, -173.300, -95.400, -40.500, -37.400, 137.300]\n",
    "C2Pcrime = [-161.752, 245.922, 310.651, 47.313, -134.100, 9.783, -37.801, -87.270, 101.195, -303.582, 72.711, 84.002, 10.054, -69.800, 4.800, -129.100, -45.100, 183.600, 165.100, -67.300, -11.900, -37.700, -5.500, -2.300, 14.700, 8.400, -111.500, 77.900, 54.900, 3.100, -99.900]\n",
    "UnemploymentRate = [9.600, 7.508, 7.192, 7.000, 6.175, 5.492, 5.258, 5.617, 6.850, 7.492, 6.908, 6.100, 5.592, 5.408, 4.942, 4.500, 4.217, 3.967, 4.742, 5.783, 5.992, 5.542, 5.083, 4.608, 4.617, 5.800, 9.283, 9.608, 8.933, 8.075, 7.367]\n",
    "ChangeUnemployment = [-0.108, -2.092, -0.317, -0.192, -0.825, -0.683, -0.233, 0.358, 1.233, 0.642, -0.583, -0.808, -0.508, -0.183, -0.467, -0.442, -0.283, -0.250, 0.775, 1.042, 0.208, -0.450, -0.458, -0.475, 0.008, 1.183, 3.483, 0.325, -0.675, -0.858, -0.708]\n",
    "\n",
    "m1 = mean (ViolentCrime)\n",
    "m2 = mean (ChangeVcrime)\n",
    "m3 = mean (C2Vcrime)\n",
    "m4 = mean (PropertyCrime)\n",
    "m5 = mean (ChangePcrime)\n",
    "m6 = mean (C2Pcrime)\n",
    "m7 = mean (UnemploymentRate)\n",
    "m8 = mean (ChangeUnemployment)\n",
    "s1 = stanDev (ViolentCrime)\n",
    "s2 = stanDev (ChangeVcrime)\n",
    "s3 = stanDev (C2Vcrime)\n",
    "s4 = stanDev (PropertyCrime)\n",
    "s5 = stanDev (ChangePcrime)\n",
    "s6 = stanDev (C2Pcrime)\n",
    "s7 = stanDev (UnemploymentRate)\n",
    "s8 = stanDev (ChangeUnemployment)\n",
    "\n",
    "print (m1, m2, m3, m4, m5, m6, m7, m8)\n",
    "print (s1, s2, s3, s4, s5, s6, s7, s8)"
   ]
  },
  {
   "cell_type": "markdown",
   "metadata": {},
   "source": [
    "### Results:\n",
    "\n",
    "#### Model Equations:  \n",
    "As stated in the method, regressions examining the change in the level of the violent and property crime rates were performed using the following specifications:\n",
    "\n",
    "\n",
    "$$(1)  {\\Delta} C_t = {\\alpha} + {\\beta_1} U_t + {\\beta_2} {\\Delta} U_t + {\\epsilon} $$  \n",
    "$$(2)  {\\Delta}^2 C_t = {\\alpha} + {\\beta_1} U_t + {\\beta_2} {\\Delta} U_t + {\\epsilon} $$  \n",
    "$$(3)  {\\Delta} lnC_t = {\\alpha} + {\\beta_1} lnU_t + {\\beta_2} {\\Delta} lnU_t + {\\epsilon} $$   \n",
    "$$(4)  {\\Delta}^2 lnC_t = {\\alpha} + {\\beta_1} lnU_t + {\\beta_2} {\\Delta} lnU_t + {\\epsilon} $$ \n",
    "\n",
    "\n",
    "\n",
    "The Durbin-Watson test statistic and adjusted $R^2$ value for each regression are as follows:\n",
    "\n",
    "| Specification   | Violent Crime, D-W | Violent Crime, Adj. $R^2$  |Property Crime, D-W|Property Crime, Adj. $R^2$ |\n",
    "| --------------- |:------------------:| -------------------------: |------------------:|-------------------------: |\n",
    "|      (1)        |       0.776        |           -0.071           |       0.813       |          -0.066           |    \n",
    "|      (2)        |       2.593        |           -0.013           |       1.850       |           0.002           |\n",
    "|      (3)        |       0.807        |           -0.070           |       0.841       |          -0.070           |\n",
    "|      (4)        |       2.523        |           -0.011           |       1.778       |          -0.011           |\n",
    "\n",
    "\n",
    "From the Durbin-Watson test statistic alone, it appears that both specifications using the second differences approach give error terms with no evidence of serial correlation for both crime rates. The corresponding test statistic values exceed the upper bound of 1.54 specified in the method, meaning that the null hypothesis of no autocorrelation cannot be rejected for specifications 2 and 4. This suggests that time trends in the crime rate are quadratic in form. Given that model 2 does not seem to exhibit autocorrelation, and we would prefer to use a specification closest to the raw data, we therefore choose specification 2 over 4 for both violent and property crime rates. The estimated models are then as follows:\n",
    "\n",
    "$$ (i) {\\Delta}^2 Violent Crime Rate_t = 5.4288 - 0.9135U_t - 5.4772{\\Delta}U_t + {\\epsilon} $$ \n",
    "\n",
    "$$ (ii) {\\Delta}^2 Property Crime Rate_t = 9.5957 - 1.4629U_t - 33.5957{\\Delta} U_t + {\\epsilon} $$ \n",
    "\n",
    "The regression output for changes in the violent and property crime rates using estimation equation 2 are presented below. Output for the additional regressions can be viewed in the appendix.\n",
    "\n",
    "On first glance, the unemployment rate appears to have a negative effect on the acceleration (or the change in changes in the crime rate) of both crime rates. However, as shown in the table above, the goodness of fit for both specifications is very poor. While adjusted $R^2$ should not be the only measure of goodness of fit consulted when dealing with time series data, a negative value should generally be interpreted as 0. This means that the explanatory variables do not explain any variance in the dependent variable, violent crime. The adjusted $R^2$ is also quite small for property crime at 0.002, which would indicate that unemployment explains only 0.2% of the variance in property crime. \n",
    "Furthermore, the p-values for the estimated coefficients for the unemployment rate are close to 1 (0.751 and 0.919, respectively), indicating that they are highly insignificant. However the change in unemploment coefficients have smaller, but still insignificant values at (0.261 and 0.176). This might indicate that the change in unemployment rather than the absolute level of unemloyment may be more important when trying to predict changes in the second derivative of crime rates. However, based on the lack of statistic significance and goodness of fit in our findings, we can conclude that, using our method, the unemployment rate cannot adequately explain changes in violent or property crime rates."
   ]
  },
  {
   "cell_type": "code",
   "execution_count": 6,
   "metadata": {
    "collapsed": false
   },
   "outputs": [
    {
     "data": {
      "text/html": [
       "<table class=\"simpletable\">\n",
       "<caption>OLS Regression Results</caption>\n",
       "<tr>\n",
       "  <th>Dep. Variable:</th>        <td>C2Vcrime</td>     <th>  R-squared:         </th> <td>   0.054</td>\n",
       "</tr>\n",
       "<tr>\n",
       "  <th>Model:</th>                   <td>OLS</td>       <th>  Adj. R-squared:    </th> <td>  -0.013</td>\n",
       "</tr>\n",
       "<tr>\n",
       "  <th>Method:</th>             <td>Least Squares</td>  <th>  F-statistic:       </th> <td>  0.8045</td>\n",
       "</tr>\n",
       "<tr>\n",
       "  <th>Date:</th>             <td>Mon, 30 Jan 2017</td> <th>  Prob (F-statistic):</th>  <td> 0.457</td> \n",
       "</tr>\n",
       "<tr>\n",
       "  <th>Time:</th>                 <td>14:35:01</td>     <th>  Log-Likelihood:    </th> <td> -141.51</td>\n",
       "</tr>\n",
       "<tr>\n",
       "  <th>No. Observations:</th>      <td>    31</td>      <th>  AIC:               </th> <td>   289.0</td>\n",
       "</tr>\n",
       "<tr>\n",
       "  <th>Df Residuals:</th>          <td>    28</td>      <th>  BIC:               </th> <td>   293.3</td>\n",
       "</tr>\n",
       "<tr>\n",
       "  <th>Df Model:</th>              <td>     2</td>      <th>                     </th>     <td> </td>   \n",
       "</tr>\n",
       "<tr>\n",
       "  <th>Covariance Type:</th>      <td>nonrobust</td>    <th>                     </th>     <td> </td>   \n",
       "</tr>\n",
       "</table>\n",
       "<table class=\"simpletable\">\n",
       "<tr>\n",
       "           <td></td>             <th>coef</th>     <th>std err</th>      <th>t</th>      <th>P>|t|</th> <th>[95.0% Conf. Int.]</th> \n",
       "</tr>\n",
       "<tr>\n",
       "  <th>UnemploymentRate</th>   <td>   -0.9135</td> <td>    2.854</td> <td>   -0.320</td> <td> 0.751</td> <td>   -6.760     4.933</td>\n",
       "</tr>\n",
       "<tr>\n",
       "  <th>ChangeUnemployment</th> <td>   -5.4772</td> <td>    4.776</td> <td>   -1.147</td> <td> 0.261</td> <td>  -15.260     4.306</td>\n",
       "</tr>\n",
       "<tr>\n",
       "  <th>Intercept</th>          <td>    5.4288</td> <td>   18.575</td> <td>    0.292</td> <td> 0.772</td> <td>  -32.620    43.477</td>\n",
       "</tr>\n",
       "</table>\n",
       "<table class=\"simpletable\">\n",
       "<tr>\n",
       "  <th>Omnibus:</th>       <td> 6.673</td> <th>  Durbin-Watson:     </th> <td>   2.593</td>\n",
       "</tr>\n",
       "<tr>\n",
       "  <th>Prob(Omnibus):</th> <td> 0.036</td> <th>  Jarque-Bera (JB):  </th> <td>   5.264</td>\n",
       "</tr>\n",
       "<tr>\n",
       "  <th>Skew:</th>          <td>-0.703</td> <th>  Prob(JB):          </th> <td>  0.0719</td>\n",
       "</tr>\n",
       "<tr>\n",
       "  <th>Kurtosis:</th>      <td> 4.448</td> <th>  Cond. No.          </th> <td>    28.1</td>\n",
       "</tr>\n",
       "</table>"
      ],
      "text/plain": [
       "<class 'statsmodels.iolib.summary.Summary'>\n",
       "\"\"\"\n",
       "                            OLS Regression Results                            \n",
       "==============================================================================\n",
       "Dep. Variable:               C2Vcrime   R-squared:                       0.054\n",
       "Model:                            OLS   Adj. R-squared:                 -0.013\n",
       "Method:                 Least Squares   F-statistic:                    0.8045\n",
       "Date:                Mon, 30 Jan 2017   Prob (F-statistic):              0.457\n",
       "Time:                        14:35:01   Log-Likelihood:                -141.51\n",
       "No. Observations:                  31   AIC:                             289.0\n",
       "Df Residuals:                      28   BIC:                             293.3\n",
       "Df Model:                           2                                         \n",
       "Covariance Type:            nonrobust                                         \n",
       "======================================================================================\n",
       "                         coef    std err          t      P>|t|      [95.0% Conf. Int.]\n",
       "--------------------------------------------------------------------------------------\n",
       "UnemploymentRate      -0.9135      2.854     -0.320      0.751        -6.760     4.933\n",
       "ChangeUnemployment    -5.4772      4.776     -1.147      0.261       -15.260     4.306\n",
       "Intercept              5.4288     18.575      0.292      0.772       -32.620    43.477\n",
       "==============================================================================\n",
       "Omnibus:                        6.673   Durbin-Watson:                   2.593\n",
       "Prob(Omnibus):                  0.036   Jarque-Bera (JB):                5.264\n",
       "Skew:                          -0.703   Prob(JB):                       0.0719\n",
       "Kurtosis:                       4.448   Cond. No.                         28.1\n",
       "==============================================================================\n",
       "\n",
       "Warnings:\n",
       "[1] Standard Errors assume that the covariance matrix of the errors is correctly specified.\n",
       "\"\"\""
      ]
     },
     "execution_count": 6,
     "metadata": {},
     "output_type": "execute_result"
    }
   ],
   "source": [
    "df['Intercept'] = np.ones(( len(df), )) #Regression 2, Violent Crime\n",
    "Y = df.C2Vcrime\n",
    "X = df[['UnemploymentRate', 'ChangeUnemployment', 'Intercept']]\n",
    "result = sm.OLS( Y, X ).fit()\n",
    "result.summary()"
   ]
  },
  {
   "cell_type": "code",
   "execution_count": 7,
   "metadata": {
    "collapsed": false
   },
   "outputs": [
    {
     "data": {
      "text/html": [
       "<table class=\"simpletable\">\n",
       "<caption>OLS Regression Results</caption>\n",
       "<tr>\n",
       "  <th>Dep. Variable:</th>        <td>C2Pcrime</td>     <th>  R-squared:         </th> <td>   0.069</td>\n",
       "</tr>\n",
       "<tr>\n",
       "  <th>Model:</th>                   <td>OLS</td>       <th>  Adj. R-squared:    </th> <td>   0.002</td>\n",
       "</tr>\n",
       "<tr>\n",
       "  <th>Method:</th>             <td>Least Squares</td>  <th>  F-statistic:       </th> <td>   1.033</td>\n",
       "</tr>\n",
       "<tr>\n",
       "  <th>Date:</th>             <td>Mon, 30 Jan 2017</td> <th>  Prob (F-statistic):</th>  <td> 0.369</td> \n",
       "</tr>\n",
       "<tr>\n",
       "  <th>Time:</th>                 <td>14:35:01</td>     <th>  Log-Likelihood:    </th> <td> -191.41</td>\n",
       "</tr>\n",
       "<tr>\n",
       "  <th>No. Observations:</th>      <td>    31</td>      <th>  AIC:               </th> <td>   388.8</td>\n",
       "</tr>\n",
       "<tr>\n",
       "  <th>Df Residuals:</th>          <td>    28</td>      <th>  BIC:               </th> <td>   393.1</td>\n",
       "</tr>\n",
       "<tr>\n",
       "  <th>Df Model:</th>              <td>     2</td>      <th>                     </th>     <td> </td>   \n",
       "</tr>\n",
       "<tr>\n",
       "  <th>Covariance Type:</th>      <td>nonrobust</td>    <th>                     </th>     <td> </td>   \n",
       "</tr>\n",
       "</table>\n",
       "<table class=\"simpletable\">\n",
       "<tr>\n",
       "           <td></td>             <th>coef</th>     <th>std err</th>      <th>t</th>      <th>P>|t|</th> <th>[95.0% Conf. Int.]</th> \n",
       "</tr>\n",
       "<tr>\n",
       "  <th>UnemploymentRate</th>   <td>   -1.4629</td> <td>   14.274</td> <td>   -0.102</td> <td> 0.919</td> <td>  -30.702    27.776</td>\n",
       "</tr>\n",
       "<tr>\n",
       "  <th>ChangeUnemployment</th> <td>  -33.1901</td> <td>   23.883</td> <td>   -1.390</td> <td> 0.176</td> <td>  -82.113    15.732</td>\n",
       "</tr>\n",
       "<tr>\n",
       "  <th>Intercept</th>          <td>    9.5957</td> <td>   92.888</td> <td>    0.103</td> <td> 0.918</td> <td> -180.677   199.869</td>\n",
       "</tr>\n",
       "</table>\n",
       "<table class=\"simpletable\">\n",
       "<tr>\n",
       "  <th>Omnibus:</th>       <td> 1.802</td> <th>  Durbin-Watson:     </th> <td>   1.850</td>\n",
       "</tr>\n",
       "<tr>\n",
       "  <th>Prob(Omnibus):</th> <td> 0.406</td> <th>  Jarque-Bera (JB):  </th> <td>   0.735</td>\n",
       "</tr>\n",
       "<tr>\n",
       "  <th>Skew:</th>          <td> 0.244</td> <th>  Prob(JB):          </th> <td>   0.692</td>\n",
       "</tr>\n",
       "<tr>\n",
       "  <th>Kurtosis:</th>      <td> 3.576</td> <th>  Cond. No.          </th> <td>    28.1</td>\n",
       "</tr>\n",
       "</table>"
      ],
      "text/plain": [
       "<class 'statsmodels.iolib.summary.Summary'>\n",
       "\"\"\"\n",
       "                            OLS Regression Results                            \n",
       "==============================================================================\n",
       "Dep. Variable:               C2Pcrime   R-squared:                       0.069\n",
       "Model:                            OLS   Adj. R-squared:                  0.002\n",
       "Method:                 Least Squares   F-statistic:                     1.033\n",
       "Date:                Mon, 30 Jan 2017   Prob (F-statistic):              0.369\n",
       "Time:                        14:35:01   Log-Likelihood:                -191.41\n",
       "No. Observations:                  31   AIC:                             388.8\n",
       "Df Residuals:                      28   BIC:                             393.1\n",
       "Df Model:                           2                                         \n",
       "Covariance Type:            nonrobust                                         \n",
       "======================================================================================\n",
       "                         coef    std err          t      P>|t|      [95.0% Conf. Int.]\n",
       "--------------------------------------------------------------------------------------\n",
       "UnemploymentRate      -1.4629     14.274     -0.102      0.919       -30.702    27.776\n",
       "ChangeUnemployment   -33.1901     23.883     -1.390      0.176       -82.113    15.732\n",
       "Intercept              9.5957     92.888      0.103      0.918      -180.677   199.869\n",
       "==============================================================================\n",
       "Omnibus:                        1.802   Durbin-Watson:                   1.850\n",
       "Prob(Omnibus):                  0.406   Jarque-Bera (JB):                0.735\n",
       "Skew:                           0.244   Prob(JB):                        0.692\n",
       "Kurtosis:                       3.576   Cond. No.                         28.1\n",
       "==============================================================================\n",
       "\n",
       "Warnings:\n",
       "[1] Standard Errors assume that the covariance matrix of the errors is correctly specified.\n",
       "\"\"\""
      ]
     },
     "execution_count": 7,
     "metadata": {},
     "output_type": "execute_result"
    }
   ],
   "source": [
    "df['Intercept'] = np.ones(( len(df), )) #Regression 2, Property Crime\n",
    "Y = df.C2Pcrime\n",
    "X = df[['UnemploymentRate', 'ChangeUnemployment', 'Intercept']]\n",
    "result = sm.OLS( Y, X ).fit()\n",
    "result.summary()"
   ]
  },
  {
   "cell_type": "markdown",
   "metadata": {},
   "source": [
    "### Discussion and Limitations:"
   ]
  },
  {
   "cell_type": "markdown",
   "metadata": {
    "collapsed": true
   },
   "source": [
    "This study analyzes the unemployment-crime relationship aggregated at the national level for annual data. For simplicity we have chosen to use violent and property aggregate crime statistics rather than individual crime statistics. As stated previously in the Methods section, if future researchers are interested in examining the effects of unemployment on individual crime rates (i.e. burglary) they would be able to utilize our methodology and run the regressions for the data. However, certain values such as derivatives and natural logs would first need to be calculated before the regressions could be run. It is possible that individual crime statistics may be more influenced by unemployment rates but these effects may net out as a whole. Therefore analysis may yield statistically significant findings for a certain category such as burglary but not for all property crime. \n",
    "\n",
    "  \n",
    "It may also be pertinant for future studies to examine state level data, as more populous states may exhibit different crime trends in response to unemployment in comparisson to more rural states. Some economies may be better adapted to changes in unemployment and more flexible to transition workers to new employment. From the lense of crime opportunity, there may also be more interactions in more densley populated areas. Furthermore, this study has been limited to annual unemployment and crime statistics. As the unemployment rate may fluctuate quite a bit within a year, it may be helpful to use quarterly data to capture the range of values over the year.  "
   ]
  },
  {
   "cell_type": "markdown",
   "metadata": {},
   "source": [
    "### Conclusion:"
   ]
  },
  {
   "cell_type": "markdown",
   "metadata": {
    "collapsed": false
   },
   "source": [
    "Unlike Cantor and Land who found significant results for 5 out of the 7 crime categories, we find no evidence of an effect of unemployment on crime for annual time series data for 1983-2013 for the United States. We adapted our methods from their paper [\"Unemployment and Crime Rates in the Post-World War II United States: A Theoretical and Empirical Analysis\"](http://www.jstor.org/stable/2095542) and used national data on violent and property crimes instead of individual crime statistics as in the original paper. We estimated 4 model specifications and ran a Durbin-Watson test to determine which model was least autocorrelated. The chosen specification, number 2, was: $(2)  {\\Delta}^2 C_t = {\\alpha} + {\\beta_1} U_t + {\\beta_2} {\\Delta} U_t + {\\epsilon} $. The OLS regressions for violent and property crime did not yield any statistically significant estimated coeffiecents, althouh the signs on unemployment and change in unemployment were negative for both regression estimations. Furthermore, the extremely low $R^2$ and adjucted $R^2$ values for both violent and property crime seem to indicate that it would not be useful to use unemployment rates to predict crime rates within sample. From this evidence, we concluded that there is no apparent relationship between unemployment and changes in either the violent or property crime rates for 1983-2013.   "
   ]
  },
  {
   "cell_type": "markdown",
   "metadata": {},
   "source": [
    "### Appendix:\n",
    "\n",
    "Regressions for alternative model specifications 1, 3, and 4."
   ]
  },
  {
   "cell_type": "code",
   "execution_count": 8,
   "metadata": {
    "collapsed": false
   },
   "outputs": [
    {
     "data": {
      "text/html": [
       "<table class=\"simpletable\">\n",
       "<caption>OLS Regression Results</caption>\n",
       "<tr>\n",
       "  <th>Dep. Variable:</th>      <td>ChangeVcrime</td>   <th>  R-squared:         </th> <td>   0.001</td>\n",
       "</tr>\n",
       "<tr>\n",
       "  <th>Model:</th>                   <td>OLS</td>       <th>  Adj. R-squared:    </th> <td>  -0.071</td>\n",
       "</tr>\n",
       "<tr>\n",
       "  <th>Method:</th>             <td>Least Squares</td>  <th>  F-statistic:       </th> <td>0.009226</td>\n",
       "</tr>\n",
       "<tr>\n",
       "  <th>Date:</th>             <td>Mon, 30 Jan 2017</td> <th>  Prob (F-statistic):</th>  <td> 0.991</td> \n",
       "</tr>\n",
       "<tr>\n",
       "  <th>Time:</th>                 <td>14:35:01</td>     <th>  Log-Likelihood:    </th> <td> -146.11</td>\n",
       "</tr>\n",
       "<tr>\n",
       "  <th>No. Observations:</th>      <td>    31</td>      <th>  AIC:               </th> <td>   298.2</td>\n",
       "</tr>\n",
       "<tr>\n",
       "  <th>Df Residuals:</th>          <td>    28</td>      <th>  BIC:               </th> <td>   302.5</td>\n",
       "</tr>\n",
       "<tr>\n",
       "  <th>Df Model:</th>              <td>     2</td>      <th>                     </th>     <td> </td>   \n",
       "</tr>\n",
       "<tr>\n",
       "  <th>Covariance Type:</th>      <td>nonrobust</td>    <th>                     </th>     <td> </td>   \n",
       "</tr>\n",
       "</table>\n",
       "<table class=\"simpletable\">\n",
       "<tr>\n",
       "           <td></td>             <th>coef</th>     <th>std err</th>      <th>t</th>      <th>P>|t|</th> <th>[95.0% Conf. Int.]</th> \n",
       "</tr>\n",
       "<tr>\n",
       "  <th>UnemploymentRate</th>   <td>   -0.4496</td> <td>    3.311</td> <td>   -0.136</td> <td> 0.893</td> <td>   -7.231     6.332</td>\n",
       "</tr>\n",
       "<tr>\n",
       "  <th>ChangeUnemployment</th> <td>    0.1250</td> <td>    5.539</td> <td>    0.023</td> <td> 0.982</td> <td>  -11.222    11.472</td>\n",
       "</tr>\n",
       "<tr>\n",
       "  <th>Intercept</th>          <td>   -3.7046</td> <td>   21.544</td> <td>   -0.172</td> <td> 0.865</td> <td>  -47.836    40.427</td>\n",
       "</tr>\n",
       "</table>\n",
       "<table class=\"simpletable\">\n",
       "<tr>\n",
       "  <th>Omnibus:</th>       <td> 6.020</td> <th>  Durbin-Watson:     </th> <td>   0.776</td>\n",
       "</tr>\n",
       "<tr>\n",
       "  <th>Prob(Omnibus):</th> <td> 0.049</td> <th>  Jarque-Bera (JB):  </th> <td>   4.471</td>\n",
       "</tr>\n",
       "<tr>\n",
       "  <th>Skew:</th>          <td> 0.883</td> <th>  Prob(JB):          </th> <td>   0.107</td>\n",
       "</tr>\n",
       "<tr>\n",
       "  <th>Kurtosis:</th>      <td> 3.587</td> <th>  Cond. No.          </th> <td>    28.1</td>\n",
       "</tr>\n",
       "</table>"
      ],
      "text/plain": [
       "<class 'statsmodels.iolib.summary.Summary'>\n",
       "\"\"\"\n",
       "                            OLS Regression Results                            \n",
       "==============================================================================\n",
       "Dep. Variable:           ChangeVcrime   R-squared:                       0.001\n",
       "Model:                            OLS   Adj. R-squared:                 -0.071\n",
       "Method:                 Least Squares   F-statistic:                  0.009226\n",
       "Date:                Mon, 30 Jan 2017   Prob (F-statistic):              0.991\n",
       "Time:                        14:35:01   Log-Likelihood:                -146.11\n",
       "No. Observations:                  31   AIC:                             298.2\n",
       "Df Residuals:                      28   BIC:                             302.5\n",
       "Df Model:                           2                                         \n",
       "Covariance Type:            nonrobust                                         \n",
       "======================================================================================\n",
       "                         coef    std err          t      P>|t|      [95.0% Conf. Int.]\n",
       "--------------------------------------------------------------------------------------\n",
       "UnemploymentRate      -0.4496      3.311     -0.136      0.893        -7.231     6.332\n",
       "ChangeUnemployment     0.1250      5.539      0.023      0.982       -11.222    11.472\n",
       "Intercept             -3.7046     21.544     -0.172      0.865       -47.836    40.427\n",
       "==============================================================================\n",
       "Omnibus:                        6.020   Durbin-Watson:                   0.776\n",
       "Prob(Omnibus):                  0.049   Jarque-Bera (JB):                4.471\n",
       "Skew:                           0.883   Prob(JB):                        0.107\n",
       "Kurtosis:                       3.587   Cond. No.                         28.1\n",
       "==============================================================================\n",
       "\n",
       "Warnings:\n",
       "[1] Standard Errors assume that the covariance matrix of the errors is correctly specified.\n",
       "\"\"\""
      ]
     },
     "execution_count": 8,
     "metadata": {},
     "output_type": "execute_result"
    }
   ],
   "source": [
    "df['Intercept'] = np.ones(( len(df), )) #Regression 1, Violent Crime\n",
    "Y = df.ChangeVcrime\n",
    "X = df[['UnemploymentRate', 'ChangeUnemployment', 'Intercept']]\n",
    "result = sm.OLS( Y, X ).fit()\n",
    "result.summary()"
   ]
  },
  {
   "cell_type": "code",
   "execution_count": 9,
   "metadata": {
    "collapsed": false
   },
   "outputs": [
    {
     "data": {
      "text/html": [
       "<table class=\"simpletable\">\n",
       "<caption>OLS Regression Results</caption>\n",
       "<tr>\n",
       "  <th>Dep. Variable:</th>        <td>ClnVcrime</td>    <th>  R-squared:         </th> <td>   0.002</td>\n",
       "</tr>\n",
       "<tr>\n",
       "  <th>Model:</th>                   <td>OLS</td>       <th>  Adj. R-squared:    </th> <td>  -0.070</td>\n",
       "</tr>\n",
       "<tr>\n",
       "  <th>Method:</th>             <td>Least Squares</td>  <th>  F-statistic:       </th> <td> 0.02385</td>\n",
       "</tr>\n",
       "<tr>\n",
       "  <th>Date:</th>             <td>Mon, 30 Jan 2017</td> <th>  Prob (F-statistic):</th>  <td> 0.976</td> \n",
       "</tr>\n",
       "<tr>\n",
       "  <th>Time:</th>                 <td>14:35:01</td>     <th>  Log-Likelihood:    </th> <td>  51.901</td>\n",
       "</tr>\n",
       "<tr>\n",
       "  <th>No. Observations:</th>      <td>    31</td>      <th>  AIC:               </th> <td>  -97.80</td>\n",
       "</tr>\n",
       "<tr>\n",
       "  <th>Df Residuals:</th>          <td>    28</td>      <th>  BIC:               </th> <td>  -93.50</td>\n",
       "</tr>\n",
       "<tr>\n",
       "  <th>Df Model:</th>              <td>     2</td>      <th>                     </th>     <td> </td>   \n",
       "</tr>\n",
       "<tr>\n",
       "  <th>Covariance Type:</th>      <td>nonrobust</td>    <th>                     </th>     <td> </td>   \n",
       "</tr>\n",
       "</table>\n",
       "<table class=\"simpletable\">\n",
       "<tr>\n",
       "            <td></td>              <th>coef</th>     <th>std err</th>      <th>t</th>      <th>P>|t|</th> <th>[95.0% Conf. Int.]</th> \n",
       "</tr>\n",
       "<tr>\n",
       "  <th>lnUnemployment</th>       <td>   -0.0057</td> <td>    0.036</td> <td>   -0.157</td> <td> 0.876</td> <td>   -0.080     0.069</td>\n",
       "</tr>\n",
       "<tr>\n",
       "  <th>ChangelnUnemployment</th> <td>   -0.0074</td> <td>    0.063</td> <td>   -0.117</td> <td> 0.908</td> <td>   -0.137     0.122</td>\n",
       "</tr>\n",
       "<tr>\n",
       "  <th>Intercept</th>            <td>   -0.0040</td> <td>    0.066</td> <td>   -0.060</td> <td> 0.953</td> <td>   -0.140     0.132</td>\n",
       "</tr>\n",
       "</table>\n",
       "<table class=\"simpletable\">\n",
       "<tr>\n",
       "  <th>Omnibus:</th>       <td> 4.576</td> <th>  Durbin-Watson:     </th> <td>   0.807</td>\n",
       "</tr>\n",
       "<tr>\n",
       "  <th>Prob(Omnibus):</th> <td> 0.101</td> <th>  Jarque-Bera (JB):  </th> <td>   3.368</td>\n",
       "</tr>\n",
       "<tr>\n",
       "  <th>Skew:</th>          <td> 0.796</td> <th>  Prob(JB):          </th> <td>   0.186</td>\n",
       "</tr>\n",
       "<tr>\n",
       "  <th>Kurtosis:</th>      <td> 3.272</td> <th>  Cond. No.          </th> <td>    19.1</td>\n",
       "</tr>\n",
       "</table>"
      ],
      "text/plain": [
       "<class 'statsmodels.iolib.summary.Summary'>\n",
       "\"\"\"\n",
       "                            OLS Regression Results                            \n",
       "==============================================================================\n",
       "Dep. Variable:              ClnVcrime   R-squared:                       0.002\n",
       "Model:                            OLS   Adj. R-squared:                 -0.070\n",
       "Method:                 Least Squares   F-statistic:                   0.02385\n",
       "Date:                Mon, 30 Jan 2017   Prob (F-statistic):              0.976\n",
       "Time:                        14:35:01   Log-Likelihood:                 51.901\n",
       "No. Observations:                  31   AIC:                            -97.80\n",
       "Df Residuals:                      28   BIC:                            -93.50\n",
       "Df Model:                           2                                         \n",
       "Covariance Type:            nonrobust                                         \n",
       "========================================================================================\n",
       "                           coef    std err          t      P>|t|      [95.0% Conf. Int.]\n",
       "----------------------------------------------------------------------------------------\n",
       "lnUnemployment          -0.0057      0.036     -0.157      0.876        -0.080     0.069\n",
       "ChangelnUnemployment    -0.0074      0.063     -0.117      0.908        -0.137     0.122\n",
       "Intercept               -0.0040      0.066     -0.060      0.953        -0.140     0.132\n",
       "==============================================================================\n",
       "Omnibus:                        4.576   Durbin-Watson:                   0.807\n",
       "Prob(Omnibus):                  0.101   Jarque-Bera (JB):                3.368\n",
       "Skew:                           0.796   Prob(JB):                        0.186\n",
       "Kurtosis:                       3.272   Cond. No.                         19.1\n",
       "==============================================================================\n",
       "\n",
       "Warnings:\n",
       "[1] Standard Errors assume that the covariance matrix of the errors is correctly specified.\n",
       "\"\"\""
      ]
     },
     "execution_count": 9,
     "metadata": {},
     "output_type": "execute_result"
    }
   ],
   "source": [
    "df['Intercept'] = np.ones(( len(df), )) #Regression 3, Violent Crime\n",
    "Y = df.ClnVcrime\n",
    "X = df[['lnUnemployment', 'ChangelnUnemployment', 'Intercept']]\n",
    "result = sm.OLS( Y, X ).fit()\n",
    "result.summary()"
   ]
  },
  {
   "cell_type": "code",
   "execution_count": 10,
   "metadata": {
    "collapsed": false
   },
   "outputs": [
    {
     "data": {
      "text/html": [
       "<table class=\"simpletable\">\n",
       "<caption>OLS Regression Results</caption>\n",
       "<tr>\n",
       "  <th>Dep. Variable:</th>       <td>C2lnVcrime</td>    <th>  R-squared:         </th> <td>   0.056</td>\n",
       "</tr>\n",
       "<tr>\n",
       "  <th>Model:</th>                   <td>OLS</td>       <th>  Adj. R-squared:    </th> <td>  -0.011</td>\n",
       "</tr>\n",
       "<tr>\n",
       "  <th>Method:</th>             <td>Least Squares</td>  <th>  F-statistic:       </th> <td>  0.8331</td>\n",
       "</tr>\n",
       "<tr>\n",
       "  <th>Date:</th>             <td>Mon, 30 Jan 2017</td> <th>  Prob (F-statistic):</th>  <td> 0.445</td> \n",
       "</tr>\n",
       "<tr>\n",
       "  <th>Time:</th>                 <td>14:35:01</td>     <th>  Log-Likelihood:    </th> <td>  55.898</td>\n",
       "</tr>\n",
       "<tr>\n",
       "  <th>No. Observations:</th>      <td>    31</td>      <th>  AIC:               </th> <td>  -105.8</td>\n",
       "</tr>\n",
       "<tr>\n",
       "  <th>Df Residuals:</th>          <td>    28</td>      <th>  BIC:               </th> <td>  -101.5</td>\n",
       "</tr>\n",
       "<tr>\n",
       "  <th>Df Model:</th>              <td>     2</td>      <th>                     </th>     <td> </td>   \n",
       "</tr>\n",
       "<tr>\n",
       "  <th>Covariance Type:</th>      <td>nonrobust</td>    <th>                     </th>     <td> </td>   \n",
       "</tr>\n",
       "</table>\n",
       "<table class=\"simpletable\">\n",
       "<tr>\n",
       "            <td></td>              <th>coef</th>     <th>std err</th>      <th>t</th>      <th>P>|t|</th> <th>[95.0% Conf. Int.]</th> \n",
       "</tr>\n",
       "<tr>\n",
       "  <th>lnUnemployment</th>       <td>   -0.0093</td> <td>    0.032</td> <td>   -0.292</td> <td> 0.772</td> <td>   -0.075     0.056</td>\n",
       "</tr>\n",
       "<tr>\n",
       "  <th>ChangelnUnemployment</th> <td>   -0.0652</td> <td>    0.056</td> <td>   -1.173</td> <td> 0.251</td> <td>   -0.179     0.049</td>\n",
       "</tr>\n",
       "<tr>\n",
       "  <th>Intercept</th>            <td>    0.0159</td> <td>    0.058</td> <td>    0.272</td> <td> 0.787</td> <td>   -0.104     0.136</td>\n",
       "</tr>\n",
       "</table>\n",
       "<table class=\"simpletable\">\n",
       "<tr>\n",
       "  <th>Omnibus:</th>       <td> 5.913</td> <th>  Durbin-Watson:     </th> <td>   2.523</td>\n",
       "</tr>\n",
       "<tr>\n",
       "  <th>Prob(Omnibus):</th> <td> 0.052</td> <th>  Jarque-Bera (JB):  </th> <td>   4.278</td>\n",
       "</tr>\n",
       "<tr>\n",
       "  <th>Skew:</th>          <td>-0.699</td> <th>  Prob(JB):          </th> <td>   0.118</td>\n",
       "</tr>\n",
       "<tr>\n",
       "  <th>Kurtosis:</th>      <td> 4.165</td> <th>  Cond. No.          </th> <td>    19.1</td>\n",
       "</tr>\n",
       "</table>"
      ],
      "text/plain": [
       "<class 'statsmodels.iolib.summary.Summary'>\n",
       "\"\"\"\n",
       "                            OLS Regression Results                            \n",
       "==============================================================================\n",
       "Dep. Variable:             C2lnVcrime   R-squared:                       0.056\n",
       "Model:                            OLS   Adj. R-squared:                 -0.011\n",
       "Method:                 Least Squares   F-statistic:                    0.8331\n",
       "Date:                Mon, 30 Jan 2017   Prob (F-statistic):              0.445\n",
       "Time:                        14:35:01   Log-Likelihood:                 55.898\n",
       "No. Observations:                  31   AIC:                            -105.8\n",
       "Df Residuals:                      28   BIC:                            -101.5\n",
       "Df Model:                           2                                         \n",
       "Covariance Type:            nonrobust                                         \n",
       "========================================================================================\n",
       "                           coef    std err          t      P>|t|      [95.0% Conf. Int.]\n",
       "----------------------------------------------------------------------------------------\n",
       "lnUnemployment          -0.0093      0.032     -0.292      0.772        -0.075     0.056\n",
       "ChangelnUnemployment    -0.0652      0.056     -1.173      0.251        -0.179     0.049\n",
       "Intercept                0.0159      0.058      0.272      0.787        -0.104     0.136\n",
       "==============================================================================\n",
       "Omnibus:                        5.913   Durbin-Watson:                   2.523\n",
       "Prob(Omnibus):                  0.052   Jarque-Bera (JB):                4.278\n",
       "Skew:                          -0.699   Prob(JB):                        0.118\n",
       "Kurtosis:                       4.165   Cond. No.                         19.1\n",
       "==============================================================================\n",
       "\n",
       "Warnings:\n",
       "[1] Standard Errors assume that the covariance matrix of the errors is correctly specified.\n",
       "\"\"\""
      ]
     },
     "execution_count": 10,
     "metadata": {},
     "output_type": "execute_result"
    }
   ],
   "source": [
    "df['Intercept'] = np.ones(( len(df), )) #Regression 4, Violent Crime\n",
    "Y = df.C2lnVcrime\n",
    "X = df[['lnUnemployment', 'ChangelnUnemployment', 'Intercept']]\n",
    "result = sm.OLS( Y, X ).fit()\n",
    "result.summary()"
   ]
  },
  {
   "cell_type": "code",
   "execution_count": 11,
   "metadata": {
    "collapsed": false
   },
   "outputs": [
    {
     "data": {
      "text/html": [
       "<table class=\"simpletable\">\n",
       "<caption>OLS Regression Results</caption>\n",
       "<tr>\n",
       "  <th>Dep. Variable:</th>      <td>ChangePcrime</td>   <th>  R-squared:         </th> <td>   0.005</td>\n",
       "</tr>\n",
       "<tr>\n",
       "  <th>Model:</th>                   <td>OLS</td>       <th>  Adj. R-squared:    </th> <td>  -0.066</td>\n",
       "</tr>\n",
       "<tr>\n",
       "  <th>Method:</th>             <td>Least Squares</td>  <th>  F-statistic:       </th> <td> 0.07377</td>\n",
       "</tr>\n",
       "<tr>\n",
       "  <th>Date:</th>             <td>Mon, 30 Jan 2017</td> <th>  Prob (F-statistic):</th>  <td> 0.929</td> \n",
       "</tr>\n",
       "<tr>\n",
       "  <th>Time:</th>                 <td>14:35:02</td>     <th>  Log-Likelihood:    </th> <td> -195.35</td>\n",
       "</tr>\n",
       "<tr>\n",
       "  <th>No. Observations:</th>      <td>    31</td>      <th>  AIC:               </th> <td>   396.7</td>\n",
       "</tr>\n",
       "<tr>\n",
       "  <th>Df Residuals:</th>          <td>    28</td>      <th>  BIC:               </th> <td>   401.0</td>\n",
       "</tr>\n",
       "<tr>\n",
       "  <th>Df Model:</th>              <td>     2</td>      <th>                     </th>     <td> </td>   \n",
       "</tr>\n",
       "<tr>\n",
       "  <th>Covariance Type:</th>      <td>nonrobust</td>    <th>                     </th>     <td> </td>   \n",
       "</tr>\n",
       "</table>\n",
       "<table class=\"simpletable\">\n",
       "<tr>\n",
       "           <td></td>             <th>coef</th>     <th>std err</th>      <th>t</th>      <th>P>|t|</th> <th>[95.0% Conf. Int.]</th> \n",
       "</tr>\n",
       "<tr>\n",
       "  <th>UnemploymentRate</th>   <td>   -2.7232</td> <td>   16.213</td> <td>   -0.168</td> <td> 0.868</td> <td>  -35.933    30.487</td>\n",
       "</tr>\n",
       "<tr>\n",
       "  <th>ChangeUnemployment</th> <td>   -8.3633</td> <td>   27.127</td> <td>   -0.308</td> <td> 0.760</td> <td>  -63.931    47.204</td>\n",
       "</tr>\n",
       "<tr>\n",
       "  <th>Intercept</th>          <td>  -48.7825</td> <td>  105.505</td> <td>   -0.462</td> <td> 0.647</td> <td> -264.899   167.334</td>\n",
       "</tr>\n",
       "</table>\n",
       "<table class=\"simpletable\">\n",
       "<tr>\n",
       "  <th>Omnibus:</th>       <td> 0.484</td> <th>  Durbin-Watson:     </th> <td>   0.813</td>\n",
       "</tr>\n",
       "<tr>\n",
       "  <th>Prob(Omnibus):</th> <td> 0.785</td> <th>  Jarque-Bera (JB):  </th> <td>   0.079</td>\n",
       "</tr>\n",
       "<tr>\n",
       "  <th>Skew:</th>          <td>-0.116</td> <th>  Prob(JB):          </th> <td>   0.961</td>\n",
       "</tr>\n",
       "<tr>\n",
       "  <th>Kurtosis:</th>      <td> 3.087</td> <th>  Cond. No.          </th> <td>    28.1</td>\n",
       "</tr>\n",
       "</table>"
      ],
      "text/plain": [
       "<class 'statsmodels.iolib.summary.Summary'>\n",
       "\"\"\"\n",
       "                            OLS Regression Results                            \n",
       "==============================================================================\n",
       "Dep. Variable:           ChangePcrime   R-squared:                       0.005\n",
       "Model:                            OLS   Adj. R-squared:                 -0.066\n",
       "Method:                 Least Squares   F-statistic:                   0.07377\n",
       "Date:                Mon, 30 Jan 2017   Prob (F-statistic):              0.929\n",
       "Time:                        14:35:02   Log-Likelihood:                -195.35\n",
       "No. Observations:                  31   AIC:                             396.7\n",
       "Df Residuals:                      28   BIC:                             401.0\n",
       "Df Model:                           2                                         \n",
       "Covariance Type:            nonrobust                                         \n",
       "======================================================================================\n",
       "                         coef    std err          t      P>|t|      [95.0% Conf. Int.]\n",
       "--------------------------------------------------------------------------------------\n",
       "UnemploymentRate      -2.7232     16.213     -0.168      0.868       -35.933    30.487\n",
       "ChangeUnemployment    -8.3633     27.127     -0.308      0.760       -63.931    47.204\n",
       "Intercept            -48.7825    105.505     -0.462      0.647      -264.899   167.334\n",
       "==============================================================================\n",
       "Omnibus:                        0.484   Durbin-Watson:                   0.813\n",
       "Prob(Omnibus):                  0.785   Jarque-Bera (JB):                0.079\n",
       "Skew:                          -0.116   Prob(JB):                        0.961\n",
       "Kurtosis:                       3.087   Cond. No.                         28.1\n",
       "==============================================================================\n",
       "\n",
       "Warnings:\n",
       "[1] Standard Errors assume that the covariance matrix of the errors is correctly specified.\n",
       "\"\"\""
      ]
     },
     "execution_count": 11,
     "metadata": {},
     "output_type": "execute_result"
    }
   ],
   "source": [
    "df['Intercept'] = np.ones(( len(df), )) #Regression 1, Property Crime\n",
    "Y = df.ChangePcrime\n",
    "X = df[['UnemploymentRate', 'ChangeUnemployment', 'Intercept']]\n",
    "result = sm.OLS( Y, X ).fit()\n",
    "result.summary()"
   ]
  },
  {
   "cell_type": "code",
   "execution_count": 12,
   "metadata": {
    "collapsed": false
   },
   "outputs": [
    {
     "data": {
      "text/html": [
       "<table class=\"simpletable\">\n",
       "<caption>OLS Regression Results</caption>\n",
       "<tr>\n",
       "  <th>Dep. Variable:</th>        <td>ClnPcrime</td>    <th>  R-squared:         </th> <td>   0.001</td>\n",
       "</tr>\n",
       "<tr>\n",
       "  <th>Model:</th>                   <td>OLS</td>       <th>  Adj. R-squared:    </th> <td>  -0.070</td>\n",
       "</tr>\n",
       "<tr>\n",
       "  <th>Method:</th>             <td>Least Squares</td>  <th>  F-statistic:       </th> <td> 0.01524</td>\n",
       "</tr>\n",
       "<tr>\n",
       "  <th>Date:</th>             <td>Mon, 30 Jan 2017</td> <th>  Prob (F-statistic):</th>  <td> 0.985</td> \n",
       "</tr>\n",
       "<tr>\n",
       "  <th>Time:</th>                 <td>14:35:02</td>     <th>  Log-Likelihood:    </th> <td>  65.621</td>\n",
       "</tr>\n",
       "<tr>\n",
       "  <th>No. Observations:</th>      <td>    31</td>      <th>  AIC:               </th> <td>  -125.2</td>\n",
       "</tr>\n",
       "<tr>\n",
       "  <th>Df Residuals:</th>          <td>    28</td>      <th>  BIC:               </th> <td>  -120.9</td>\n",
       "</tr>\n",
       "<tr>\n",
       "  <th>Df Model:</th>              <td>     2</td>      <th>                     </th>     <td> </td>   \n",
       "</tr>\n",
       "<tr>\n",
       "  <th>Covariance Type:</th>      <td>nonrobust</td>    <th>                     </th>     <td> </td>   \n",
       "</tr>\n",
       "</table>\n",
       "<table class=\"simpletable\">\n",
       "<tr>\n",
       "            <td></td>              <th>coef</th>     <th>std err</th>      <th>t</th>      <th>P>|t|</th> <th>[95.0% Conf. Int.]</th> \n",
       "</tr>\n",
       "<tr>\n",
       "  <th>lnUnemployment</th>       <td>   -0.0038</td> <td>    0.023</td> <td>   -0.163</td> <td> 0.872</td> <td>   -0.052     0.044</td>\n",
       "</tr>\n",
       "<tr>\n",
       "  <th>ChangelnUnemployment</th> <td>   -0.0012</td> <td>    0.041</td> <td>   -0.029</td> <td> 0.977</td> <td>   -0.084     0.082</td>\n",
       "</tr>\n",
       "<tr>\n",
       "  <th>Intercept</th>            <td>   -0.0129</td> <td>    0.043</td> <td>   -0.302</td> <td> 0.765</td> <td>   -0.100     0.075</td>\n",
       "</tr>\n",
       "</table>\n",
       "<table class=\"simpletable\">\n",
       "<tr>\n",
       "  <th>Omnibus:</th>       <td> 0.294</td> <th>  Durbin-Watson:     </th> <td>   0.841</td>\n",
       "</tr>\n",
       "<tr>\n",
       "  <th>Prob(Omnibus):</th> <td> 0.863</td> <th>  Jarque-Bera (JB):  </th> <td>   0.024</td>\n",
       "</tr>\n",
       "<tr>\n",
       "  <th>Skew:</th>          <td> 0.069</td> <th>  Prob(JB):          </th> <td>   0.988</td>\n",
       "</tr>\n",
       "<tr>\n",
       "  <th>Kurtosis:</th>      <td> 3.002</td> <th>  Cond. No.          </th> <td>    19.1</td>\n",
       "</tr>\n",
       "</table>"
      ],
      "text/plain": [
       "<class 'statsmodels.iolib.summary.Summary'>\n",
       "\"\"\"\n",
       "                            OLS Regression Results                            \n",
       "==============================================================================\n",
       "Dep. Variable:              ClnPcrime   R-squared:                       0.001\n",
       "Model:                            OLS   Adj. R-squared:                 -0.070\n",
       "Method:                 Least Squares   F-statistic:                   0.01524\n",
       "Date:                Mon, 30 Jan 2017   Prob (F-statistic):              0.985\n",
       "Time:                        14:35:02   Log-Likelihood:                 65.621\n",
       "No. Observations:                  31   AIC:                            -125.2\n",
       "Df Residuals:                      28   BIC:                            -120.9\n",
       "Df Model:                           2                                         \n",
       "Covariance Type:            nonrobust                                         \n",
       "========================================================================================\n",
       "                           coef    std err          t      P>|t|      [95.0% Conf. Int.]\n",
       "----------------------------------------------------------------------------------------\n",
       "lnUnemployment          -0.0038      0.023     -0.163      0.872        -0.052     0.044\n",
       "ChangelnUnemployment    -0.0012      0.041     -0.029      0.977        -0.084     0.082\n",
       "Intercept               -0.0129      0.043     -0.302      0.765        -0.100     0.075\n",
       "==============================================================================\n",
       "Omnibus:                        0.294   Durbin-Watson:                   0.841\n",
       "Prob(Omnibus):                  0.863   Jarque-Bera (JB):                0.024\n",
       "Skew:                           0.069   Prob(JB):                        0.988\n",
       "Kurtosis:                       3.002   Cond. No.                         19.1\n",
       "==============================================================================\n",
       "\n",
       "Warnings:\n",
       "[1] Standard Errors assume that the covariance matrix of the errors is correctly specified.\n",
       "\"\"\""
      ]
     },
     "execution_count": 12,
     "metadata": {},
     "output_type": "execute_result"
    }
   ],
   "source": [
    "df['Intercept'] = np.ones(( len(df), )) #Regression 3, Property Crime\n",
    "Y = df.ClnPcrime\n",
    "X = df[['lnUnemployment', 'ChangelnUnemployment', 'Intercept']]\n",
    "result = sm.OLS( Y, X ).fit()\n",
    "result.summary()"
   ]
  },
  {
   "cell_type": "code",
   "execution_count": 13,
   "metadata": {
    "collapsed": false
   },
   "outputs": [
    {
     "data": {
      "text/html": [
       "<table class=\"simpletable\">\n",
       "<caption>OLS Regression Results</caption>\n",
       "<tr>\n",
       "  <th>Dep. Variable:</th>       <td>C2lnPcrime</td>    <th>  R-squared:         </th> <td>   0.041</td>\n",
       "</tr>\n",
       "<tr>\n",
       "  <th>Model:</th>                   <td>OLS</td>       <th>  Adj. R-squared:    </th> <td>  -0.028</td>\n",
       "</tr>\n",
       "<tr>\n",
       "  <th>Method:</th>             <td>Least Squares</td>  <th>  F-statistic:       </th> <td>  0.5934</td>\n",
       "</tr>\n",
       "<tr>\n",
       "  <th>Date:</th>             <td>Mon, 30 Jan 2017</td> <th>  Prob (F-statistic):</th>  <td> 0.559</td> \n",
       "</tr>\n",
       "<tr>\n",
       "  <th>Time:</th>                 <td>14:35:02</td>     <th>  Log-Likelihood:    </th> <td>  67.952</td>\n",
       "</tr>\n",
       "<tr>\n",
       "  <th>No. Observations:</th>      <td>    31</td>      <th>  AIC:               </th> <td>  -129.9</td>\n",
       "</tr>\n",
       "<tr>\n",
       "  <th>Df Residuals:</th>          <td>    28</td>      <th>  BIC:               </th> <td>  -125.6</td>\n",
       "</tr>\n",
       "<tr>\n",
       "  <th>Df Model:</th>              <td>     2</td>      <th>                     </th>     <td> </td>   \n",
       "</tr>\n",
       "<tr>\n",
       "  <th>Covariance Type:</th>      <td>nonrobust</td>    <th>                     </th>     <td> </td>   \n",
       "</tr>\n",
       "</table>\n",
       "<table class=\"simpletable\">\n",
       "<tr>\n",
       "            <td></td>              <th>coef</th>     <th>std err</th>      <th>t</th>      <th>P>|t|</th> <th>[95.0% Conf. Int.]</th> \n",
       "</tr>\n",
       "<tr>\n",
       "  <th>lnUnemployment</th>       <td>   -0.0045</td> <td>    0.022</td> <td>   -0.206</td> <td> 0.838</td> <td>   -0.049     0.040</td>\n",
       "</tr>\n",
       "<tr>\n",
       "  <th>ChangelnUnemployment</th> <td>   -0.0379</td> <td>    0.038</td> <td>   -1.006</td> <td> 0.323</td> <td>   -0.115     0.039</td>\n",
       "</tr>\n",
       "<tr>\n",
       "  <th>Intercept</th>            <td>    0.0076</td> <td>    0.040</td> <td>    0.193</td> <td> 0.848</td> <td>   -0.073     0.089</td>\n",
       "</tr>\n",
       "</table>\n",
       "<table class=\"simpletable\">\n",
       "<tr>\n",
       "  <th>Omnibus:</th>       <td> 1.588</td> <th>  Durbin-Watson:     </th> <td>   1.778</td>\n",
       "</tr>\n",
       "<tr>\n",
       "  <th>Prob(Omnibus):</th> <td> 0.452</td> <th>  Jarque-Bera (JB):  </th> <td>   0.943</td>\n",
       "</tr>\n",
       "<tr>\n",
       "  <th>Skew:</th>          <td> 0.426</td> <th>  Prob(JB):          </th> <td>   0.624</td>\n",
       "</tr>\n",
       "<tr>\n",
       "  <th>Kurtosis:</th>      <td> 3.076</td> <th>  Cond. No.          </th> <td>    19.1</td>\n",
       "</tr>\n",
       "</table>"
      ],
      "text/plain": [
       "<class 'statsmodels.iolib.summary.Summary'>\n",
       "\"\"\"\n",
       "                            OLS Regression Results                            \n",
       "==============================================================================\n",
       "Dep. Variable:             C2lnPcrime   R-squared:                       0.041\n",
       "Model:                            OLS   Adj. R-squared:                 -0.028\n",
       "Method:                 Least Squares   F-statistic:                    0.5934\n",
       "Date:                Mon, 30 Jan 2017   Prob (F-statistic):              0.559\n",
       "Time:                        14:35:02   Log-Likelihood:                 67.952\n",
       "No. Observations:                  31   AIC:                            -129.9\n",
       "Df Residuals:                      28   BIC:                            -125.6\n",
       "Df Model:                           2                                         \n",
       "Covariance Type:            nonrobust                                         \n",
       "========================================================================================\n",
       "                           coef    std err          t      P>|t|      [95.0% Conf. Int.]\n",
       "----------------------------------------------------------------------------------------\n",
       "lnUnemployment          -0.0045      0.022     -0.206      0.838        -0.049     0.040\n",
       "ChangelnUnemployment    -0.0379      0.038     -1.006      0.323        -0.115     0.039\n",
       "Intercept                0.0076      0.040      0.193      0.848        -0.073     0.089\n",
       "==============================================================================\n",
       "Omnibus:                        1.588   Durbin-Watson:                   1.778\n",
       "Prob(Omnibus):                  0.452   Jarque-Bera (JB):                0.943\n",
       "Skew:                           0.426   Prob(JB):                        0.624\n",
       "Kurtosis:                       3.076   Cond. No.                         19.1\n",
       "==============================================================================\n",
       "\n",
       "Warnings:\n",
       "[1] Standard Errors assume that the covariance matrix of the errors is correctly specified.\n",
       "\"\"\""
      ]
     },
     "execution_count": 13,
     "metadata": {},
     "output_type": "execute_result"
    }
   ],
   "source": [
    "df['Intercept'] = np.ones(( len(df), )) #Regression 4, Property Crime\n",
    "Y = df.C2lnPcrime\n",
    "X = df[['lnUnemployment', 'ChangelnUnemployment', 'Intercept']]\n",
    "result = sm.OLS( Y, X ).fit()\n",
    "result.summary()"
   ]
  }
 ],
 "metadata": {
  "kernelspec": {
   "display_name": "Python 2",
   "language": "python",
   "name": "python2"
  },
  "language_info": {
   "codemirror_mode": {
    "name": "ipython",
    "version": 2
   },
   "file_extension": ".py",
   "mimetype": "text/x-python",
   "name": "python",
   "nbconvert_exporter": "python",
   "pygments_lexer": "ipython2",
   "version": "2.7.11"
  }
 },
 "nbformat": 4,
 "nbformat_minor": 0
}
